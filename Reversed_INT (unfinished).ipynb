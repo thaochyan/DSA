{
 "cells": [
  {
   "cell_type": "code",
   "execution_count": 8,
   "metadata": {},
   "outputs": [
    {
     "data": {
      "text/plain": [
       "5"
      ]
     },
     "execution_count": 8,
     "metadata": {},
     "output_type": "execute_result"
    }
   ],
   "source": [
    "# / --- Directions\n",
    "# // Given an integer, return an integer that is the reverse\n",
    "# // ordering of numbers.\n",
    "# // --- Examples\n",
    "# //   reverseInt(15) === 51\n",
    "# //   reverseInt(981) === 189\n",
    "# //   reverseInt(500) === 5\n",
    "# //   reverseInt(-15) === -51\n",
    "# //   reverseInt(-90) === -9\n",
    "\n",
    "\n",
    "# Absolute value approach:\n",
    "def reverseINT(n):\n",
    "    abs_val = abs(n)\n",
    "    rev = int(str(abs_val)[::-1])\n",
    "    if n < 0:\n",
    "        return rev*-1\n",
    "    else:\n",
    "        return rev\n",
    "        \n",
    "  \n",
    "reverseINT(50)"
   ]
  },
  {
   "cell_type": "code",
   "execution_count": null,
   "metadata": {},
   "outputs": [],
   "source": []
  },
  {
   "cell_type": "code",
   "execution_count": null,
   "metadata": {},
   "outputs": [],
   "source": []
  }
 ],
 "metadata": {
  "kernelspec": {
   "display_name": "Python 3",
   "language": "python",
   "name": "python3"
  },
  "language_info": {
   "codemirror_mode": {
    "name": "ipython",
    "version": 3
   },
   "file_extension": ".py",
   "mimetype": "text/x-python",
   "name": "python",
   "nbconvert_exporter": "python",
   "pygments_lexer": "ipython3",
   "version": "3.8.5"
  }
 },
 "nbformat": 4,
 "nbformat_minor": 4
}
