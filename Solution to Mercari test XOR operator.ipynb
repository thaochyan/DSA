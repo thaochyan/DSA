{
 "cells": [
  {
   "cell_type": "code",
   "execution_count": 16,
   "id": "interior-spray",
   "metadata": {},
   "outputs": [
    {
     "data": {
      "text/plain": [
       "6"
      ]
     },
     "execution_count": 16,
     "metadata": {},
     "output_type": "execute_result"
    }
   ],
   "source": [
    "def test(lo,hi,k):\n",
    "    y = []\n",
    "    for a in range(lo,hi):\n",
    "        for b in range(a+1,hi+1):\n",
    "            x = a^b\n",
    "            if x <= k:\n",
    "                y.append(x)\n",
    "    return max(y)\n",
    "test(3,5,6)"
   ]
  }
 ],
 "metadata": {
  "kernelspec": {
   "display_name": "Python 3",
   "language": "python",
   "name": "python3"
  },
  "language_info": {
   "codemirror_mode": {
    "name": "ipython",
    "version": 3
   },
   "file_extension": ".py",
   "mimetype": "text/x-python",
   "name": "python",
   "nbconvert_exporter": "python",
   "pygments_lexer": "ipython3",
   "version": "3.8.5"
  }
 },
 "nbformat": 4,
 "nbformat_minor": 5
}
