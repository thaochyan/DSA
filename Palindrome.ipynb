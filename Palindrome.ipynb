{
 "cells": [
  {
   "cell_type": "code",
   "execution_count": 4,
   "metadata": {},
   "outputs": [
    {
     "data": {
      "text/plain": [
       "True"
      ]
     },
     "execution_count": 4,
     "metadata": {},
     "output_type": "execute_result"
    }
   ],
   "source": [
    "# --- Directions\n",
    "# Given a string, return true if the string is a palindrome\n",
    "# or false if it is not.  Palindromes are strings that\n",
    "# form the same word if it is reversed. *Do* include spaces\n",
    "# and punctuation in determining if the string is a palindrome.\n",
    "# --- Examples:\n",
    "#   palindrome(\"abba\") === true\n",
    "#   palindrome(\"abcdefg\") === false\n",
    "\n",
    "# If...else... solution\n",
    "\n",
    "def palindrome(str):\n",
    "    rev = str[::-1]\n",
    "    if rev == str:\n",
    "        return True\n",
    "    else:\n",
    "        return False\n",
    "\n",
    "palindrome(\"abba\")\n",
    "palindrome(\"car\")\n",
    "palindrome(\"dad\")"
   ]
  },
  {
   "cell_type": "code",
   "execution_count": 8,
   "metadata": {},
   "outputs": [
    {
     "data": {
      "text/plain": [
       "True"
      ]
     },
     "execution_count": 8,
     "metadata": {},
     "output_type": "execute_result"
    }
   ],
   "source": [
    "# Straight-forward\n",
    "\n",
    "def palindrome(str):\n",
    "    rev = str[::-1]\n",
    "    return rev == str\n",
    "\n",
    "palindrome(\"abba\")"
   ]
  },
  {
   "cell_type": "code",
   "execution_count": 64,
   "metadata": {},
   "outputs": [
    {
     "data": {
      "text/plain": [
       "False"
      ]
     },
     "execution_count": 64,
     "metadata": {},
     "output_type": "execute_result"
    }
   ],
   "source": [
    "# Alternative solution\n",
    "# Check every character\n",
    "\n",
    "def palindrome(str):\n",
    "    lst = list(str)\n",
    "    a = True\n",
    "    while len(lst) > 0:\n",
    "        if lst[0] == lst[-1]:\n",
    "            lst.pop(-1)\n",
    "            lst.pop(0)\n",
    "        elif lst[0] != lst[-1]:\n",
    "            a = False\n",
    "            break\n",
    "        break\n",
    "    return a\n",
    "               \n",
    "\n",
    "palindrome(\"adopodb\")\n",
    "            \n",
    "        "
   ]
  },
  {
   "cell_type": "code",
   "execution_count": null,
   "metadata": {},
   "outputs": [],
   "source": []
  },
  {
   "cell_type": "code",
   "execution_count": null,
   "metadata": {},
   "outputs": [],
   "source": []
  }
 ],
 "metadata": {
  "kernelspec": {
   "display_name": "Python 3",
   "language": "python",
   "name": "python3"
  },
  "language_info": {
   "codemirror_mode": {
    "name": "ipython",
    "version": 3
   },
   "file_extension": ".py",
   "mimetype": "text/x-python",
   "name": "python",
   "nbconvert_exporter": "python",
   "pygments_lexer": "ipython3",
   "version": "3.8.5"
  }
 },
 "nbformat": 4,
 "nbformat_minor": 4
}
