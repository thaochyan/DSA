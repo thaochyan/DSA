{
 "cells": [
  {
   "cell_type": "code",
   "execution_count": 21,
   "metadata": {},
   "outputs": [
    {
     "data": {
      "text/plain": [
       "'loohcs'"
      ]
     },
     "execution_count": 21,
     "metadata": {},
     "output_type": "execute_result"
    }
   ],
   "source": [
    "\n",
    "#reversed() funtion\n",
    "\n",
    "def reverse(str):\n",
    "    lst_char = list(str)\n",
    "    return \"\".join(reversed(lst_char))\n",
    "        \n",
    "reverse(\"name\")\n",
    "reverse(\"school\")"
   ]
  },
  {
   "cell_type": "code",
   "execution_count": 16,
   "metadata": {},
   "outputs": [
    {
     "data": {
      "text/plain": [
       "'eman'"
      ]
     },
     "execution_count": 16,
     "metadata": {},
     "output_type": "execute_result"
    }
   ],
   "source": [
    "#.reverse() method\n",
    "#about 3 times slower than [::-1]\n",
    "\n",
    "def reverse(str):\n",
    "    lst_char = list(str)\n",
    "    lst_char.reverse()\n",
    "    return \"\".join(lst_char)\n",
    "\n",
    "reverse(\"name\")"
   ]
  },
  {
   "cell_type": "code",
   "execution_count": 18,
   "metadata": {},
   "outputs": [
    {
     "data": {
      "text/plain": [
       "'eman'"
      ]
     },
     "execution_count": 18,
     "metadata": {},
     "output_type": "execute_result"
    }
   ],
   "source": [
    "def reverse(str):\n",
    "    newword = \"\"\n",
    "    for i in str:\n",
    "        newword = i + newword\n",
    "    return newword\n",
    "\n",
    "reverse(\"name\")"
   ]
  },
  {
   "cell_type": "code",
   "execution_count": 19,
   "metadata": {},
   "outputs": [
    {
     "data": {
      "text/plain": [
       "'!dlroW olleH'"
      ]
     },
     "execution_count": 19,
     "metadata": {},
     "output_type": "execute_result"
    }
   ],
   "source": [
    "#fatest way to do\n",
    "#[begin:end:step] => [::-1] with step of -1, it gives reversed word\n",
    "\n",
    "def reverse(str):\n",
    "    return str[::-1]\n",
    "\n",
    "reverse(\"Hello World!\")"
   ]
  }
 ],
 "metadata": {
  "kernelspec": {
   "display_name": "Python 3",
   "language": "python",
   "name": "python3"
  },
  "language_info": {
   "codemirror_mode": {
    "name": "ipython",
    "version": 3
   },
   "file_extension": ".py",
   "mimetype": "text/x-python",
   "name": "python",
   "nbconvert_exporter": "python",
   "pygments_lexer": "ipython3",
   "version": "3.8.5"
  }
 },
 "nbformat": 4,
 "nbformat_minor": 4
}
